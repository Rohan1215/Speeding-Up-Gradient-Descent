{
 "cells": [
  {
   "cell_type": "code",
   "execution_count": 1,
   "metadata": {},
   "outputs": [],
   "source": [
    "%matplotlib inline\n",
    "import matplotlib.pyplot as plt\n",
    "import numpy as np\n",
    "\n",
    "from mpl_toolkits.mplot3d import Axes3D\n",
    "from matplotlib.colors import LogNorm\n",
    "from matplotlib import animation\n",
    "\n",
    "from scipy.optimize import minimize, OptimizeResult\n",
    "from collections import defaultdict\n",
    "from itertools import zip_longest\n",
    "from functools import partial\n",
    "\n",
    "from sklearn import datasets\n",
    "from sklearn.preprocessing import StandardScaler\n",
    "from sklearn.inspection import DecisionBoundaryDisplay\n",
    "\n",
    "from copy import deepcopy"
   ]
  },
  {
   "cell_type": "markdown",
   "metadata": {},
   "source": [
    "## <span style=\"color:blue\">Implementation (Students do)</span>\n",
    "<hr/>\n",
    "\n",
    "### Methods\n",
    "You will implement five optimization algorithms (descriptions available [here](https://web.archive.org/web/20230121055130/https://ruder.io/optimizing-gradient-descent/index.html)).\n",
    "- Gradient descent (`gd`)\n",
    "- MirrorDescent (`mirrD`)\n",
    "- Accelerated gradient method (`acc`)\n",
    "- Adaptive gradient method (`adagrad`)\n",
    "- Adaptive moment estimation (`adam`)\n",
    "\n",
    "The last is a very common optimizer used in practical applications -- possibly the most common in the world.\n",
    "\n",
    "In addition, you will also implement a method for mirrorstep for the entropy regularizer and the ell_2 regularizer `mirrorstep_entropy/ell_2`. The latter of which you will use for the mirror descent algorithm and may also use for the accelerated method implementation.\n",
    "Make note of the function headers: `def gd(func, x, lr, num_iters, grad):`.\n",
    "- `func`: [type: function] The loss function. Takes in a point of type np.ndarray (n,) for some n and returns a float representing the value of the function at that point.\n",
    "- `x`: [type: np.ndarray (n,)] The starting point of the optimization.\n",
    "- `lr`: [type: real] Learning rate.\n",
    "- `num_iters`: [type: int] The number of iterations of the optimization method to run.\n",
    "- `grad`: [type: function] The gradient of the loss function. Takes in a point of type np.ndarray (n,) and returns an np.ndarray (n,) representing the gradient of the function at that point.\n",
    "\n",
    "Each function will need to return a `np.ndarray` containing all the iterates over the course of the optimization.\n"
   ]
  },
  {
   "cell_type": "code",
   "execution_count": 2,
   "metadata": {},
   "outputs": [],
   "source": [
    "#takes as input an x which is on the n-dimensional unit simplex, lr is a FIXED SCALAR Learning Rate (not a schedule function like the rest of the problem) and grad is a vector which returns gradient of a given function at point x. Return the next iterate of the mirror step.\n",
    "def mirrorstep_entropy(x, lr, grad):\n",
    "    return np.multiply(x, np.exp(-grad * lr))\n",
    "#same as above except x lies in R^n inside of the unit simplex.\n",
    "def mirrorstep_ell_2(x, lr, grad):\n",
    "    return x - lr * grad"
   ]
  },
  {
   "cell_type": "code",
   "execution_count": 3,
   "metadata": {},
   "outputs": [],
   "source": [
    "def gd(func, x, lr, num_iters, grad): # lr = 0.02\n",
    "    iterates = []\n",
    "    iterates.append(deepcopy(x))\n",
    "    for itr in range(num_iters):\n",
    "        update = - lr * grad(x)\n",
    "        x += update\n",
    "        iterates.append(deepcopy(x))\n",
    "    return np.array(iterates)"
   ]
  },
  {
   "cell_type": "code",
   "execution_count": 4,
   "metadata": {},
   "outputs": [],
   "source": [
    "def mirrorD(func, x, lr, num_iters, grad): # lr = 0.2\n",
    "    iterates = []\n",
    "    iterates.append(deepcopy(x))\n",
    "    for itr in range(num_iters):\n",
    "        gk = grad(x)\n",
    "        update = mirrorstep_ell_2(x, lr, gk)\n",
    "        x = update\n",
    "        iterates.append(deepcopy(x))\n",
    "    return np.array(iterates)\n"
   ]
  },
  {
   "cell_type": "code",
   "execution_count": 5,
   "metadata": {},
   "outputs": [],
   "source": [
    "#we will not use a learning rate but rather use a parameter L which denotes the Lipshitz constant of the function to be optimized. Use the stepsize/learning rates you got from the PDF part of the problem. Return the y sequence of iterates\n",
    "def acc(func, x, L, num_iters, grad): #lr = 1.9\n",
    "    iterates = []\n",
    "    y = x\n",
    "    z = x\n",
    "    tau = 0\n",
    "    iterates.append(deepcopy(x))\n",
    "    for itr in range(num_iters):\n",
    "        tau = 2 / (itr + 2)\n",
    "        x = tau * z + (1 - tau) * y\n",
    "        y = x - (1/L) * grad(x)\n",
    "        eta = 1 / (tau * L)\n",
    "        z = mirrorstep_ell_2(z, eta, grad(x))\n",
    "        iterates.append(deepcopy(y))\n",
    "    return np.array(iterates)"
   ]
  },
  {
   "cell_type": "code",
   "execution_count": 6,
   "metadata": {},
   "outputs": [],
   "source": [
    "def adagrad(func, x, lr, num_iters, grad, eps=1e-5): # lr = 0.02 \n",
    "    iterates = []\n",
    "    iterates.append(deepcopy(x))\n",
    "    for itr in range(num_iters):\n",
    "        gt = grad(x)\n",
    "        #print(gt)\n",
    "        G = gt * gt #np.diag(gt * gt) gt is scalar here #fix for logistic below\n",
    "        #print(np.sqrt(G + eps))\n",
    "        update = (lr * np.reciprocal(np.sqrt(G + eps))) * gt\n",
    "        x = x - update\n",
    "        \n",
    "        iterates.append(deepcopy(x))\n",
    "    \n",
    "    return np.array(iterates)"
   ]
  },
  {
   "cell_type": "code",
   "execution_count": 7,
   "metadata": {},
   "outputs": [],
   "source": [
    "def adam(func, x, lr, num_iters, grad, beta1=0.9, beta2=0.999, eps=1e-5): #lr = 0.02\n",
    "    iterates = []\n",
    "    mt = 0\n",
    "    vt = 0\n",
    "    beta1exp = beta1\n",
    "    beta2exp = beta2\n",
    "    iterates.append(deepcopy(x))\n",
    "    for itr in range(num_iters):\n",
    "        gt = grad(x)\n",
    "        mt = beta1 * mt + (1 - beta1) * gt\n",
    "        vt = beta2 * vt + (1 - beta2) * gt * gt\n",
    "        mt_hat = mt / (1 - beta1exp)\n",
    "        vt_hat = vt / (1 - beta2exp)\n",
    "        beta1exp *= beta1\n",
    "        beta2exp *= beta2\n",
    "        update = - lr * np.multiply(np.reciprocal(np.sqrt(vt_hat) + eps), mt_hat)\n",
    "        x += update\n",
    "        iterates.append(deepcopy(x))\n",
    "    return np.array(iterates)\n"
   ]
  },
  {
   "cell_type": "markdown",
   "metadata": {},
   "source": [
    "## Testing your code\n",
    "We are not providing much structure here, but now is a good time to make sure your optimization methods are working well. The cell below tests your gradient descent method on the function $f(x)=x^2$."
   ]
  },
  {
   "cell_type": "code",
   "execution_count": 11,
   "metadata": {},
   "outputs": [],
   "source": [
    "x_squared_fval = lambda x: x**2\n",
    "x_squared_grad = lambda x: 2*x\n",
    "iterates = acc(x_squared_fval, 2, 1.9, 100, x_squared_grad)\n",
    "res=[(i,x,x_squared_fval(x)) for (i,x) in enumerate(iterates)]\n",
    "#print([x[2] for x in res])"
   ]
  },
  {
   "cell_type": "code",
   "execution_count": 12,
   "metadata": {},
   "outputs": [
    {
     "data": {
      "text/plain": [
       "[<matplotlib.lines.Line2D at 0x7fcac8a3da30>]"
      ]
     },
     "execution_count": 12,
     "metadata": {},
     "output_type": "execute_result"
    },
    {
     "data": {
      "image/png": "[encoded data removed]",
      "text/plain": [
       "<Figure size 432x288 with 1 Axes>"
      ]
     },
     "metadata": {
      "needs_background": "light"
     },
     "output_type": "display_data"
    }
   ],
   "source": [
    "plt.plot([x[2] for x in res])"
   ]
  },
  {
   "cell_type": "code",
   "execution_count": 13,
   "metadata": {},
   "outputs": [
    {
     "data": {
      "text/plain": [
       "[<matplotlib.lines.Line2D at 0x7fcac89c9c10>]"
      ]
     },
     "execution_count": 13,
     "metadata": {},
     "output_type": "execute_result"
    },
    {
     "data": {
      "image/png": "[encoded data removed]",
      "text/plain": [
       "<Figure size 432x288 with 1 Axes>"
      ]
     },
     "metadata": {
      "needs_background": "light"
     },
     "output_type": "display_data"
    }
   ],
   "source": [
    "plt.plot([np.log(x[2]) for x in res])"
   ]
  },
  {
   "cell_type": "code",
   "execution_count": 15,
   "metadata": {},
   "outputs": [
    {
     "data": {
      "text/plain": [
       "(1, -0.10526315789473673, 0.011080332409972275)"
      ]
     },
     "execution_count": 15,
     "metadata": {},
     "output_type": "execute_result"
    }
   ],
   "source": [
    "res[1]"
   ]
  },
  {
   "cell_type": "markdown",
   "metadata": {},
   "source": [
    "## <span style=\"color:red\">Submission: Challenge</span>\n",
    "<span style=\"color:red\">In this part, you will implement the lambda functions for the functional value and the gradient function for logistic regression function given a data matrix X and output vector y. Finally you will run the above algorithms that you implemented for a classification dataset. </span>"
   ]
  },
  {
   "cell_type": "code",
   "execution_count": 16,
   "metadata": {},
   "outputs": [
    {
     "data": {
      "text/plain": [
       "<module 'numpy' from '/Users/rohan/opt/anaconda3/lib/python3.9/site-packages/numpy/__init__.py'>"
      ]
     },
     "execution_count": 16,
     "metadata": {},
     "output_type": "execute_result"
    }
   ],
   "source": [
    "np"
   ]
  },
  {
   "cell_type": "raw",
   "metadata": {},
   "source": [
    "\\sum_i y_i log(1/(1+e^(-x_i^t w)) + (1-y_i) log(1-1/(1+e^(-x_i^t w))\n"
   ]
  },
  {
   "cell_type": "code",
   "execution_count": 55,
   "metadata": {},
   "outputs": [
    {
     "data": {
      "text/plain": [
       "2.302585092994046"
      ]
     },
     "execution_count": 55,
     "metadata": {},
     "output_type": "execute_result"
    }
   ],
   "source": [
    "np.log(10)"
   ]
  },
  {
   "cell_type": "code",
   "execution_count": 92,
   "metadata": {},
   "outputs": [],
   "source": [
    "#1/n \\sum_i y_i log(1/(1+e^(-x_i^t w)) + (1-y_i) log(1-1/(1+e^(-x_i^t w))\n",
    "def logistic_regression_fval(X,y,w):\n",
    "    s = 0\n",
    "    num_ex = X.shape[0]\n",
    "    for i in range(num_ex):\n",
    "        expo = np.exp(-np.dot(X[i], w))\n",
    "        L = y[i] * np.log(1/(1 + expo))\n",
    "        R = (1 - y[i]) * np.log(1 - (1/ (1 + expo)))\n",
    "        s += L + R\n",
    "    s /= num_ex\n",
    "    return s\n",
    "    \n",
    "    \n",
    "    \n",
    "    #denom = np.exp(-np.matmul(X, w)) + 1\n",
    "    #logparam1 = np.reciprocal(denom)\n",
    "    #log1 = np.log(logparam1)\n",
    "    #log2 = np.log(1-logparam1)\n",
    "    #ret = y * log1 + (- y + 1) * log2\n",
    "    \n",
    "    #print(ret)\n",
    "    #print(\"-----------------------------\")\n",
    "    #print(\"-----------------------------\")\n",
    "    #print(\"-----------------------------\")\n",
    "    #return ret / num_ex\n",
    "\n",
    "def logistic_regression_grad(X,y,w):\n",
    "    num_ex = X.shape[0]\n",
    "    num_param = X.shape[1]\n",
    "    s = np.array([0] * num_param)\n",
    "    for i in range(num_ex):\n",
    "        expo = np.exp(-np.dot(X[i], w))\n",
    "        R = 1/(1 + expo) - y[i]\n",
    "        s = s + X[i] * R\n",
    "    #print(s.shape)\n",
    "    return s / num_ex\n",
    "        \n",
    "    \n",
    "    #num_param = X.shape[1]\n",
    "    #E = np.exp(-np.matmul(X,w))\n",
    "    #d = np.reciprocal(E + 1) - y\n",
    "    #ret = np.matmul(X.T,d) / num_param\n",
    "    #print(ret.shape)\n",
    "    #return ret"
   ]
  },
  {
   "cell_type": "code",
   "execution_count": 93,
   "metadata": {},
   "outputs": [],
   "source": [
    "# Standard GD"
   ]
  },
  {
   "cell_type": "code",
   "execution_count": 94,
   "metadata": {},
   "outputs": [],
   "source": [
    "#Logistic Regression Dataset\n",
    "data=datasets.load_breast_cancer()\n",
    "X=data.data\n",
    "scaler=StandardScaler()\n",
    "scaler.fit(X)\n",
    "X=scaler.transform(X)\n",
    "y=data.target\n",
    "iterates = gd(lambda w:logistic_regression_fval(X,y,w),np.random.randn(X.shape[1]),1,100,lambda w:logistic_regression_grad(X,y,w))\n",
    "res_bc=[(i,w,logistic_regression_fval(X,y,w)) for (i,w) in enumerate(iterates)]\n",
    "#print([x for x in res_bc])"
   ]
  },
  {
   "cell_type": "code",
   "execution_count": 98,
   "metadata": {},
   "outputs": [
    {
     "data": {
      "text/plain": [
       "((569, 30), (569,))"
      ]
     },
     "execution_count": 98,
     "metadata": {},
     "output_type": "execute_result"
    }
   ],
   "source": [
    "X.shape, y.shape"
   ]
  },
  {
   "cell_type": "code",
   "execution_count": 99,
   "metadata": {},
   "outputs": [
    {
     "data": {
      "image/png": "[encoded data removed]",
      "text/plain": [
       "<Figure size 432x288 with 1 Axes>"
      ]
     },
     "metadata": {
      "needs_background": "light"
     },
     "output_type": "display_data"
    }
   ],
   "source": [
    "#Plot function value decrease over all iterations\n",
    "plt.plot([x[0] for x in res_bc],[x[2] for x in res_bc])\n",
    "plt.xlabel('Iteration Number')\n",
    "plt.ylabel('Function Value')\n",
    "plt.show()"
   ]
  },
  {
   "cell_type": "code",
   "execution_count": 100,
   "metadata": {},
   "outputs": [],
   "source": [
    "# Mirror Descent"
   ]
  },
  {
   "cell_type": "code",
   "execution_count": 101,
   "metadata": {},
   "outputs": [],
   "source": [
    "#Logistic Regression Dataset\n",
    "data=datasets.load_breast_cancer()\n",
    "X=data.data\n",
    "scaler=StandardScaler()\n",
    "scaler.fit(X)\n",
    "X=scaler.transform(X)\n",
    "y=data.target\n",
    "iterates = mirrorD(lambda w:logistic_regression_fval(X,y,w),np.random.randn(X.shape[1]),1,100,lambda w:logistic_regression_grad(X,y,w))\n",
    "res_bc=[(i,w,logistic_regression_fval(X,y,w)) for (i,w) in enumerate(iterates)]\n",
    "#print([x for x in res_bc])"
   ]
  },
  {
   "cell_type": "code",
   "execution_count": 102,
   "metadata": {},
   "outputs": [
    {
     "data": {
      "image/png": "[encoded data removed]",
      "text/plain": [
       "<Figure size 432x288 with 1 Axes>"
      ]
     },
     "metadata": {
      "needs_background": "light"
     },
     "output_type": "display_data"
    }
   ],
   "source": [
    "#Plot function value decrease over all iterations\n",
    "plt.plot([x[0] for x in res_bc],[x[2] for x in res_bc])\n",
    "plt.xlabel('Iteration Number')\n",
    "plt.ylabel('Function Value')\n",
    "plt.show()"
   ]
  },
  {
   "cell_type": "markdown",
   "metadata": {},
   "source": [
    "Run the above code for all the different algorithms and report the convergence behavior of all the algorithms. Add the plots of the function value decrease over all iterates to a PDF file (or add different cells for the run of each algorithm and the plotting and you can just use the PDF of the jupyter notebook. )"
   ]
  },
  {
   "cell_type": "code",
   "execution_count": 103,
   "metadata": {},
   "outputs": [],
   "source": [
    "# Accelerated GD"
   ]
  },
  {
   "cell_type": "code",
   "execution_count": 104,
   "metadata": {},
   "outputs": [],
   "source": [
    "#Logistic Regression Dataset\n",
    "data=datasets.load_breast_cancer()\n",
    "X=data.data\n",
    "scaler=StandardScaler()\n",
    "scaler.fit(X)\n",
    "X=scaler.transform(X)\n",
    "y=data.target\n",
    "iterates = acc(lambda w:logistic_regression_fval(X,y,w),np.random.randn(X.shape[1]),1,100,lambda w:logistic_regression_grad(X,y,w))\n",
    "res_bc=[(i,w,logistic_regression_fval(X,y,w)) for (i,w) in enumerate(iterates)]\n",
    "#print([x for x in res_bc])"
   ]
  },
  {
   "cell_type": "code",
   "execution_count": 105,
   "metadata": {},
   "outputs": [
    {
     "data": {
      "image/png": "[encoded data removed]",
      "text/plain": [
       "<Figure size 432x288 with 1 Axes>"
      ]
     },
     "metadata": {
      "needs_background": "light"
     },
     "output_type": "display_data"
    }
   ],
   "source": [
    "#Plot function value decrease over all iterations\n",
    "plt.plot([x[0] for x in res_bc],[x[2] for x in res_bc])\n",
    "plt.xlabel('Iteration Number')\n",
    "plt.ylabel('Function Value')\n",
    "plt.show()"
   ]
  },
  {
   "cell_type": "code",
   "execution_count": 106,
   "metadata": {},
   "outputs": [],
   "source": [
    "# Adagrad"
   ]
  },
  {
   "cell_type": "code",
   "execution_count": 107,
   "metadata": {},
   "outputs": [],
   "source": [
    "#Logistic Regression Dataset\n",
    "data=datasets.load_breast_cancer()\n",
    "X=data.data\n",
    "scaler=StandardScaler()\n",
    "scaler.fit(X)\n",
    "X=scaler.transform(X)\n",
    "y=data.target\n",
    "iterates = adagrad(lambda w:logistic_regression_fval(X,y,w),np.random.randn(X.shape[1]),0.01,100,lambda w:logistic_regression_grad(X,y,w))\n",
    "res_bc=[(i,w,logistic_regression_fval(X,y,w)) for (i,w) in enumerate(iterates)]\n",
    "#print([x for x in res_bc])"
   ]
  },
  {
   "cell_type": "code",
   "execution_count": 108,
   "metadata": {},
   "outputs": [
    {
     "data": {
      "image/png": "[encoded data removed]",
      "text/plain": [
       "<Figure size 432x288 with 1 Axes>"
      ]
     },
     "metadata": {
      "needs_background": "light"
     },
     "output_type": "display_data"
    }
   ],
   "source": [
    "#Plot function value decrease over all iterations\n",
    "plt.plot([x[0] for x in res_bc],[x[2] for x in res_bc])\n",
    "plt.xlabel('Iteration Number')\n",
    "plt.ylabel('Function Value')\n",
    "plt.show()"
   ]
  },
  {
   "cell_type": "code",
   "execution_count": 109,
   "metadata": {},
   "outputs": [],
   "source": [
    "# Adam"
   ]
  },
  {
   "cell_type": "code",
   "execution_count": 115,
   "metadata": {},
   "outputs": [
    {
     "name": "stderr",
     "output_type": "stream",
     "text": [
      "/var/folders/z6/5jmzv3bs66q_f0zgxn9lkxtm0000gn/T/ipykernel_98974/3394900157.py:17: RuntimeWarning: invalid value encountered in reciprocal\n",
      "  update = - lr * np.multiply(np.reciprocal(np.sqrt(vt_hat) + eps), mt_hat)\n"
     ]
    }
   ],
   "source": [
    "#Logistic Regression Dataset\n",
    "data=datasets.load_breast_cancer()\n",
    "X=data.data\n",
    "scaler=StandardScaler()\n",
    "scaler.fit(X)\n",
    "X=scaler.transform(X)\n",
    "y=data.target\n",
    "iterates = adam(lambda w:logistic_regression_fval(X,y,w),np.random.randn(X.shape[1]),0.01,100,lambda w:logistic_regression_grad(X,y,w))\n",
    "res_bc=[(i,w,logistic_regression_fval(X,y,w)) for (i,w) in enumerate(iterates)]\n",
    "#print([x for x in res_bc])"
   ]
  },
  {
   "cell_type": "code",
   "execution_count": 116,
   "metadata": {},
   "outputs": [
    {
     "data": {
      "image/png": "[encoded data removed]",
      "text/plain": [
       "<Figure size 432x288 with 1 Axes>"
      ]
     },
     "metadata": {
      "needs_background": "light"
     },
     "output_type": "display_data"
    }
   ],
   "source": [
    "#Plot function value decrease over all iterations\n",
    "plt.plot([x[0] for x in res_bc],[x[2] for x in res_bc])\n",
    "plt.xlabel('Iteration Number')\n",
    "plt.ylabel('Function Value')\n",
    "plt.show()"
   ]
  },
  {
   "cell_type": "code",
   "execution_count": null,
   "metadata": {},
   "outputs": [],
   "source": []
  }
 ],
 "metadata": {
  "anaconda-cloud": {},
  "kernelspec": {
   "display_name": "Python 3 (ipykernel)",
   "language": "python",
   "name": "python3"
  },
  "language_info": {
   "codemirror_mode": {
    "name": "ipython",
    "version": 3
   },
   "file_extension": ".py",
   "mimetype": "text/x-python",
   "name": "python",
   "nbconvert_exporter": "python",
   "pygments_lexer": "ipython3",
   "version": "3.9.12"
  }
 },
 "nbformat": 4,
 "nbformat_minor": 4
}
